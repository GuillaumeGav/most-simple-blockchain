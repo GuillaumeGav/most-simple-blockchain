{
 "cells": [
  {
   "cell_type": "markdown",
   "id": "edf944cb",
   "metadata": {},
   "source": [
    "# Simple Blockchain\n",
    "\n",
    "The aim here is to create the simplest blockchain possible to understand its working principle."
   ]
  },
  {
   "cell_type": "code",
   "execution_count": 2,
   "id": "791138ea",
   "metadata": {},
   "outputs": [],
   "source": [
    "import hashlib\n",
    "import time"
   ]
  },
  {
   "cell_type": "markdown",
   "id": "893626d2",
   "metadata": {},
   "source": [
    "## Block class\n",
    "the block class allow us to create block, a block contains : \n",
    "* an index \n",
    "* some data \n",
    "* the data time of its creation\n",
    "* the hash of the previous block\n",
    "* its own hash : block_hash = f(index,data,time_crea,old_hash)\n",
    "\n",
    "We use the sha256 which is the hash cryptographic algorithm that will encode our data and allow us to compute the hash of the current block\n",
    "    "
   ]
  },
  {
   "cell_type": "code",
   "execution_count": 73,
   "id": "82649217",
   "metadata": {},
   "outputs": [],
   "source": [
    "# we create the block \n",
    "class Block:\n",
    "    # a block contains : an index, the hash of the previous block, some data \n",
    "    def __init__(self, index, data, old_hash):\n",
    "        self.index = index \n",
    "        self.data = data\n",
    "        self.timecrea = time.time()\n",
    "        self.old_hash = old_hash\n",
    "        self.block_hash = self.calculate_hash()\n",
    "    #method to compute the new hash of the current block\n",
    "    def calculate_hash(self):\n",
    "        # we use sha256 -> hash crypto algorithm and the data of the current block to encode\n",
    "        # we encode the index, creation time, data and old_hash of the hash itself\n",
    "        to_encode = (str(self.index)+str(self.timecrea)+str(self.data)+str(self.old_hash)).encode('utf8')\n",
    "        self.block_hash = hashlib.sha256(to_encode).hexdigest()\n",
    "        #print(self.block_hash)\n",
    "        return self.block_hash\n",
    "    "
   ]
  },
  {
   "cell_type": "markdown",
   "id": "09af825f",
   "metadata": {},
   "source": [
    "## Blockchain class\n",
    "the blockchain class manage the entire chain of blocks"
   ]
  },
  {
   "cell_type": "code",
   "execution_count": 74,
   "id": "3d7a5891",
   "metadata": {},
   "outputs": [],
   "source": [
    "\n",
    "class Blockchain: \n",
    "    def __init__(self):\n",
    "        # we initialize a list which will contains the blocks\n",
    "        self.blocks_list = []\n",
    "        # we add the first block of the chain\n",
    "        self.blocks_list.append(self.create_genesis_block())\n",
    "        # initialize the block index \n",
    "        self.block_index = 0\n",
    "        \n",
    "    def create_genesis_block(self):\n",
    "        genesis_block = Block(0,\"Genesis Block\",\"00\")\n",
    "        return genesis_block\n",
    "    \n",
    "    def get_last_block(self):\n",
    "        # return the previous block of the chain\n",
    "        return self.blocks_list[-1]\n",
    "    \n",
    "    def add_block(self, data):\n",
    "        #increment the index of the block\n",
    "        self.block_index=self.block_index+1\n",
    "        # get the last block\n",
    "        last_block = self.get_last_block()\n",
    "        # creation of the new block with the required information\n",
    "        new_block = Block(self.block_index, data, last_block.block_hash)\n",
    "        # we add the block to the blockchain\n",
    "        self.blocks_list.append(new_block)\n",
    "        return None\n",
    "    \n",
    "    def verify_valid_chain(self):\n",
    "        for block in self.blocks_list : \n",
    "    # verify hash recalculate and compare\n",
    "            if (block.block_hash==block.calculate_hash()):\n",
    "                print(f'block index :{block.index}, with hash : {block.block_hash} is correct \\t ')\n",
    "            else : \n",
    "                print(f'block index :{block.index}, with hash : {block.block_hash} is incorrect \\t ')\n",
    "                print(f'block hash in the chain :{block.block_hash}, recalculate : {block.calculate_hash()} \\t ')\n",
    "\n",
    "            \n",
    "    \n",
    "        "
   ]
  },
  {
   "cell_type": "markdown",
   "id": "8683bb49",
   "metadata": {},
   "source": [
    "## Creating an instance of blockchain\n",
    "adding block, seeing how a hash looks like, playing around :) "
   ]
  },
  {
   "cell_type": "code",
   "execution_count": 85,
   "id": "71cc0487",
   "metadata": {},
   "outputs": [],
   "source": [
    "# we instantiate an object blockchain of class Blockchain\n",
    "my_blockchain = Blockchain()"
   ]
  },
  {
   "cell_type": "code",
   "execution_count": 86,
   "id": "07d74ca6",
   "metadata": {},
   "outputs": [
    {
     "data": {
      "text/plain": [
       "1"
      ]
     },
     "execution_count": 86,
     "metadata": {},
     "output_type": "execute_result"
    }
   ],
   "source": [
    "# we check that the genesis block was created\n",
    "len(my_blockchain.blocks_list)"
   ]
  },
  {
   "cell_type": "code",
   "execution_count": 87,
   "id": "0cf0de80",
   "metadata": {},
   "outputs": [
    {
     "data": {
      "text/plain": [
       "'e24a7787b6f6dff73ebe728578a20ebce2ac3ce6ca8966497e09ecae77550b34'"
      ]
     },
     "execution_count": 87,
     "metadata": {},
     "output_type": "execute_result"
    }
   ],
   "source": [
    "my_blockchain.get_last_block().block_hash"
   ]
  },
  {
   "cell_type": "code",
   "execution_count": 88,
   "id": "897efa71",
   "metadata": {},
   "outputs": [],
   "source": [
    "my_blockchain.add_block('Bonjour Boujour')"
   ]
  },
  {
   "cell_type": "code",
   "execution_count": 89,
   "id": "97cc5d0d",
   "metadata": {},
   "outputs": [
    {
     "data": {
      "text/plain": [
       "2"
      ]
     },
     "execution_count": 89,
     "metadata": {},
     "output_type": "execute_result"
    }
   ],
   "source": [
    "len(my_blockchain.blocks_list)"
   ]
  },
  {
   "cell_type": "code",
   "execution_count": 97,
   "id": "e697e6f9",
   "metadata": {},
   "outputs": [],
   "source": [
    "my_blockchain.add_block('Bonjour hahahahahahaa')"
   ]
  },
  {
   "cell_type": "code",
   "execution_count": 98,
   "id": "0359e66c",
   "metadata": {},
   "outputs": [
    {
     "name": "stdout",
     "output_type": "stream",
     "text": [
      "block index :0, with hash : e24a7787b6f6dff73ebe728578a20ebce2ac3ce6ca8966497e09ecae77550b34 is correct \t \n",
      "block index :1, with hash : 86b8630a9985e54ce6eb415aeae6cb09c22fa08baf2402acfa24775ca6a15407 is correct \t \n",
      "block index :2, with hash : 7790956adee0ba31cb246e68522d235b06ef59f96b311efaaae4da44c20f7c3a is correct \t \n",
      "block index :3, with hash : 007adc06243622164af917f86393303c03dc1566a4c0c761163d90c65b499636 is correct \t \n",
      "block index :4, with hash : 1763ffb88a686e71ab41907ed28d660e2569bb308eb720c1a1a94ff78e14f0f4 is correct \t \n",
      "block index :5, with hash : aea1130c563d4e3d28c8bc77d8154ff015ec40c20a5fa2ffc54cb92d4af095d1 is correct \t \n"
     ]
    }
   ],
   "source": [
    "my_blockchain.verify_valid_chain()"
   ]
  }
 ],
 "metadata": {
  "kernelspec": {
   "display_name": "Python 3 (ipykernel)",
   "language": "python",
   "name": "python3"
  },
  "language_info": {
   "codemirror_mode": {
    "name": "ipython",
    "version": 3
   },
   "file_extension": ".py",
   "mimetype": "text/x-python",
   "name": "python",
   "nbconvert_exporter": "python",
   "pygments_lexer": "ipython3",
   "version": "3.10.6"
  },
  "toc": {
   "base_numbering": 1,
   "nav_menu": {},
   "number_sections": true,
   "sideBar": true,
   "skip_h1_title": false,
   "title_cell": "Table of Contents",
   "title_sidebar": "Contents",
   "toc_cell": false,
   "toc_position": {},
   "toc_section_display": true,
   "toc_window_display": false
  }
 },
 "nbformat": 4,
 "nbformat_minor": 5
}
