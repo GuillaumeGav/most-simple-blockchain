{
 "cells": [
  {
   "cell_type": "markdown",
   "id": "17ddeeea",
   "metadata": {},
   "source": [
    "# Simple Blockchain enhanced\n",
    "\n",
    "The aim here is to create the simplest blockchain possible to understand its working principle."
   ]
  },
  {
   "cell_type": "code",
   "execution_count": 1,
   "id": "e99e41d4",
   "metadata": {},
   "outputs": [],
   "source": [
    "import hashlib\n",
    "import time"
   ]
  },
  {
   "cell_type": "markdown",
   "id": "66f4d05e",
   "metadata": {},
   "source": [
    "## Block class\n",
    "the block class allow us to create block, a block contains : \n",
    "* an index \n",
    "* some data \n",
    "* the data time of its creation\n",
    "* the hash of the previous block\n",
    "* its own hash : block_hash = f(index,data,time_crea,old_hash)\n",
    "\n",
    "We use the sha256 which is the hash cryptographic algorithm that will encode our data and allow us to compute the hash of the current block\n",
    "    "
   ]
  },
  {
   "cell_type": "code",
   "execution_count": 2,
   "id": "4adaa531",
   "metadata": {},
   "outputs": [],
   "source": [
    "# we create the block \n",
    "class Block:\n",
    "    # a block contains : an index, the hash of the previous block, some data \n",
    "    def __init__(self, index, data, old_hash):\n",
    "        self.index = index \n",
    "        self.data = data\n",
    "        self.timecrea = time.time()\n",
    "        self.old_hash = old_hash\n",
    "        self.block_hash = self.calculate_hash()\n",
    "    #method to compute the new hash of the current block\n",
    "    def calculate_hash(self):\n",
    "        # we use sha256 -> hash crypto algorithm and the data of the current block to encode\n",
    "        # we encode the index, creation time, data and old_hash of the hash itself\n",
    "        to_encode = (str(self.index)+str(self.timecrea)+str(self.data)+str(self.old_hash)).encode('utf8')\n",
    "        self.block_hash = hashlib.sha256(to_encode).hexdigest()\n",
    "        #print(self.block_hash)\n",
    "        return self.block_hash\n",
    "    "
   ]
  },
  {
   "cell_type": "markdown",
   "id": "77106669",
   "metadata": {},
   "source": [
    "## Blockchain class\n",
    "the blockchain class manage the entire chain of blocks"
   ]
  },
  {
   "cell_type": "code",
   "execution_count": 3,
   "id": "ecd8cd13",
   "metadata": {},
   "outputs": [],
   "source": [
    "\n",
    "class Blockchain: \n",
    "    def __init__(self):\n",
    "        # we initialize a list which will contains the blocks\n",
    "        self.blocks_list = []\n",
    "        # we add the first block of the chain\n",
    "        self.blocks_list.append(self.create_genesis_block())\n",
    "        # initialize the block index \n",
    "        self.block_index = 0\n",
    "        \n",
    "    def create_genesis_block(self):\n",
    "        genesis_block = Block(0,\"Genesis Block\",\"00\")\n",
    "        return genesis_block\n",
    "    \n",
    "    def get_last_block(self):\n",
    "        # return the previous block of the chain\n",
    "        return self.blocks_list[-1]\n",
    "    \n",
    "    def add_block(self, data):\n",
    "        #increment the index of the block\n",
    "        self.block_index=self.block_index+1\n",
    "        # get the last block\n",
    "        last_block = self.get_last_block()\n",
    "        # creation of the new block with the required information\n",
    "        new_block = Block(self.block_index, data, last_block.block_hash)\n",
    "        # we add the block to the blockchain\n",
    "        self.blocks_list.append(new_block)\n",
    "        return None\n",
    "    \n",
    "    def verify_valid_chain(self):\n",
    "        for block in self.blocks_list : \n",
    "    # verify hash recalculate and compare\n",
    "            if (block.block_hash==block.calculate_hash()):\n",
    "                print(f'block index :{block.index}, with hash : {block.block_hash} is correct \\t ')\n",
    "            else : \n",
    "                print(f'block index :{block.index}, with hash : {block.block_hash} is incorrect \\t ')\n",
    "                print(f'block hash in the chain :{block.block_hash}, recalculate : {block.calculate_hash()} \\t ')\n",
    "\n",
    "            \n",
    "    \n",
    "        "
   ]
  },
  {
   "cell_type": "markdown",
   "id": "61cdf6da",
   "metadata": {},
   "source": [
    "## Creating an instance of blockchain\n",
    "adding block, seeing how a hash looks like, playing around :) "
   ]
  },
  {
   "cell_type": "code",
   "execution_count": 4,
   "id": "42b3e52b",
   "metadata": {},
   "outputs": [],
   "source": [
    "# we instantiate an object blockchain of class Blockchain\n",
    "my_blockchain = Blockchain()"
   ]
  },
  {
   "cell_type": "code",
   "execution_count": 5,
   "id": "a3b38b24",
   "metadata": {},
   "outputs": [
    {
     "data": {
      "text/plain": [
       "1"
      ]
     },
     "execution_count": 5,
     "metadata": {},
     "output_type": "execute_result"
    }
   ],
   "source": [
    "# we check that the genesis block was created\n",
    "len(my_blockchain.blocks_list)"
   ]
  },
  {
   "cell_type": "code",
   "execution_count": 6,
   "id": "07a970f8",
   "metadata": {},
   "outputs": [
    {
     "data": {
      "text/plain": [
       "'1156d412dd8d7f5725a7710eab88361ea5a4e9e0b7ece02325998f468942a03e'"
      ]
     },
     "execution_count": 6,
     "metadata": {},
     "output_type": "execute_result"
    }
   ],
   "source": [
    "my_blockchain.get_last_block().block_hash"
   ]
  },
  {
   "cell_type": "code",
   "execution_count": 7,
   "id": "4c6c7d16",
   "metadata": {},
   "outputs": [],
   "source": [
    "my_blockchain.add_block('Bonjour Boujour')"
   ]
  },
  {
   "cell_type": "code",
   "execution_count": 8,
   "id": "d7297e9d",
   "metadata": {},
   "outputs": [
    {
     "data": {
      "text/plain": [
       "2"
      ]
     },
     "execution_count": 8,
     "metadata": {},
     "output_type": "execute_result"
    }
   ],
   "source": [
    "len(my_blockchain.blocks_list)"
   ]
  },
  {
   "cell_type": "code",
   "execution_count": 9,
   "id": "6e3b469d",
   "metadata": {},
   "outputs": [],
   "source": [
    "my_blockchain.add_block('Bonjour à tous je suis le 3ème bloc de la chaine, my_blockchain')"
   ]
  },
  {
   "cell_type": "code",
   "execution_count": 10,
   "id": "e078823f",
   "metadata": {},
   "outputs": [
    {
     "name": "stdout",
     "output_type": "stream",
     "text": [
      "block index :0, with hash : 1156d412dd8d7f5725a7710eab88361ea5a4e9e0b7ece02325998f468942a03e is correct \t \n",
      "block index :1, with hash : 62c72600accdb0779a5295899fb06fd408687571cdf2ed230adc17be6bd8818f is correct \t \n",
      "block index :2, with hash : 7c18d469388c806256dc6d1d5fd5eea7efd5c339e3e68d7e8e1ba78a96b755d9 is correct \t \n"
     ]
    }
   ],
   "source": [
    "my_blockchain.verify_valid_chain()"
   ]
  },
  {
   "cell_type": "code",
   "execution_count": 15,
   "id": "d9e414e9",
   "metadata": {},
   "outputs": [],
   "source": [
    "my_blockchain.blocks_list[1].data = \"je triche \""
   ]
  },
  {
   "cell_type": "code",
   "execution_count": 16,
   "id": "435bdc6d",
   "metadata": {},
   "outputs": [
    {
     "name": "stdout",
     "output_type": "stream",
     "text": [
      "block index :0, with hash : 1156d412dd8d7f5725a7710eab88361ea5a4e9e0b7ece02325998f468942a03e is correct \t \n",
      "block index :1, with hash : 305bea8cc6f784684633a670f488c2e376e277b86c069621509e568331517df0 is incorrect \t \n",
      "block hash in the chain :305bea8cc6f784684633a670f488c2e376e277b86c069621509e568331517df0, recalculate : 305bea8cc6f784684633a670f488c2e376e277b86c069621509e568331517df0 \t \n",
      "block index :2, with hash : b2502ded52690bdf5d241d575d4c31f9de50e3ba276f7a0d43eb10a88499a38c is correct \t \n"
     ]
    }
   ],
   "source": [
    "my_blockchain.verify_valid_chain()"
   ]
  },
  {
   "cell_type": "code",
   "execution_count": null,
   "id": "1317bb22",
   "metadata": {},
   "outputs": [],
   "source": []
  }
 ],
 "metadata": {
  "kernelspec": {
   "display_name": "Python 3 (ipykernel)",
   "language": "python",
   "name": "python3"
  },
  "language_info": {
   "codemirror_mode": {
    "name": "ipython",
    "version": 3
   },
   "file_extension": ".py",
   "mimetype": "text/x-python",
   "name": "python",
   "nbconvert_exporter": "python",
   "pygments_lexer": "ipython3",
   "version": "3.10.6"
  },
  "toc": {
   "base_numbering": 1,
   "nav_menu": {},
   "number_sections": true,
   "sideBar": true,
   "skip_h1_title": false,
   "title_cell": "Table of Contents",
   "title_sidebar": "Contents",
   "toc_cell": false,
   "toc_position": {},
   "toc_section_display": true,
   "toc_window_display": false
  }
 },
 "nbformat": 4,
 "nbformat_minor": 5
}
